{
 "cells": [
  {
   "cell_type": "code",
   "execution_count": 1,
   "metadata": {
    "collapsed": true
   },
   "outputs": [],
   "source": [
    "import requests\n",
    "import json\n",
    "import pandas as pd"
   ]
  },
  {
   "cell_type": "code",
   "execution_count": 2,
   "metadata": {
    "collapsed": true
   },
   "outputs": [],
   "source": [
    "book_url = 'https://sheetdb.io/api/v1/24sxv08ychzzl?sheet=book_list'\n",
    "history_url = 'https://sheetdb.io/api/v1/24sxv08ychzzl?sheet=book_history'\n",
    "\n",
    "\n",
    "book_df = pd.read_json(json.dumps(json.loads(requests.get(book_url).text)))\n",
    "history_df = pd.read_json(json.dumps(json.loads(requests.get(history_url).text)))"
   ]
  },
  {
   "cell_type": "code",
   "execution_count": 11,
   "metadata": {},
   "outputs": [],
   "source": [
    "count = history_df.groupby(['ISBN']).size().to_frame()"
   ]
  },
  {
   "cell_type": "code",
   "execution_count": 12,
   "metadata": {},
   "outputs": [
    {
     "data": {
      "text/html": [
       "<div>\n",
       "<style>\n",
       "    .dataframe thead tr:only-child th {\n",
       "        text-align: right;\n",
       "    }\n",
       "\n",
       "    .dataframe thead th {\n",
       "        text-align: left;\n",
       "    }\n",
       "\n",
       "    .dataframe tbody tr th {\n",
       "        vertical-align: top;\n",
       "    }\n",
       "</style>\n",
       "<table border=\"1\" class=\"dataframe\">\n",
       "  <thead>\n",
       "    <tr style=\"text-align: right;\">\n",
       "      <th></th>\n",
       "      <th>0</th>\n",
       "    </tr>\n",
       "    <tr>\n",
       "      <th>ISBN</th>\n",
       "      <th></th>\n",
       "    </tr>\n",
       "  </thead>\n",
       "  <tbody>\n",
       "    <tr>\n",
       "      <th>9789571377551</th>\n",
       "      <td>3</td>\n",
       "    </tr>\n",
       "    <tr>\n",
       "      <th>9789576581502</th>\n",
       "      <td>1</td>\n",
       "    </tr>\n",
       "    <tr>\n",
       "      <th>9789578654648</th>\n",
       "      <td>3</td>\n",
       "    </tr>\n",
       "    <tr>\n",
       "      <th>9789578787964</th>\n",
       "      <td>3</td>\n",
       "    </tr>\n",
       "    <tr>\n",
       "      <th>9789862894606</th>\n",
       "      <td>3</td>\n",
       "    </tr>\n",
       "  </tbody>\n",
       "</table>\n",
       "</div>"
      ],
      "text/plain": [
       "               0\n",
       "ISBN            \n",
       "9789571377551  3\n",
       "9789576581502  1\n",
       "9789578654648  3\n",
       "9789578787964  3\n",
       "9789862894606  3"
      ]
     },
     "execution_count": 12,
     "metadata": {},
     "output_type": "execute_result"
    }
   ],
   "source": [
    "count.head()"
   ]
  },
  {
   "cell_type": "code",
   "execution_count": 15,
   "metadata": {},
   "outputs": [
    {
     "ename": "TypeError",
     "evalue": "object of type 'NoneType' has no len()",
     "output_type": "error",
     "traceback": [
      "\u001b[1;31m---------------------------------------------------------------------------\u001b[0m",
      "\u001b[1;31mTypeError\u001b[0m                                 Traceback (most recent call last)",
      "\u001b[1;32m<ipython-input-15-bdb4e4db9a2c>\u001b[0m in \u001b[0;36m<module>\u001b[1;34m()\u001b[0m\n\u001b[1;32m----> 1\u001b[1;33m \u001b[0mcount1\u001b[0m \u001b[1;33m=\u001b[0m \u001b[0mpd\u001b[0m\u001b[1;33m.\u001b[0m\u001b[0mmerge\u001b[0m\u001b[1;33m(\u001b[0m\u001b[0mbook_df\u001b[0m\u001b[1;33m,\u001b[0m \u001b[0mcount\u001b[0m\u001b[1;33m,\u001b[0m \u001b[0mleft_on\u001b[0m \u001b[1;33m=\u001b[0m \u001b[1;34m'ISBN'\u001b[0m\u001b[1;33m)\u001b[0m\u001b[1;33m\u001b[0m\u001b[0m\n\u001b[0m",
      "\u001b[1;32m~\\Anaconda3\\lib\\site-packages\\pandas\\core\\reshape\\merge.py\u001b[0m in \u001b[0;36mmerge\u001b[1;34m(left, right, how, on, left_on, right_on, left_index, right_index, sort, suffixes, copy, indicator)\u001b[0m\n\u001b[0;32m     51\u001b[0m                          \u001b[0mright_on\u001b[0m\u001b[1;33m=\u001b[0m\u001b[0mright_on\u001b[0m\u001b[1;33m,\u001b[0m \u001b[0mleft_index\u001b[0m\u001b[1;33m=\u001b[0m\u001b[0mleft_index\u001b[0m\u001b[1;33m,\u001b[0m\u001b[1;33m\u001b[0m\u001b[0m\n\u001b[0;32m     52\u001b[0m                          \u001b[0mright_index\u001b[0m\u001b[1;33m=\u001b[0m\u001b[0mright_index\u001b[0m\u001b[1;33m,\u001b[0m \u001b[0msort\u001b[0m\u001b[1;33m=\u001b[0m\u001b[0msort\u001b[0m\u001b[1;33m,\u001b[0m \u001b[0msuffixes\u001b[0m\u001b[1;33m=\u001b[0m\u001b[0msuffixes\u001b[0m\u001b[1;33m,\u001b[0m\u001b[1;33m\u001b[0m\u001b[0m\n\u001b[1;32m---> 53\u001b[1;33m                          copy=copy, indicator=indicator)\n\u001b[0m\u001b[0;32m     54\u001b[0m     \u001b[1;32mreturn\u001b[0m \u001b[0mop\u001b[0m\u001b[1;33m.\u001b[0m\u001b[0mget_result\u001b[0m\u001b[1;33m(\u001b[0m\u001b[1;33m)\u001b[0m\u001b[1;33m\u001b[0m\u001b[0m\n\u001b[0;32m     55\u001b[0m \u001b[1;33m\u001b[0m\u001b[0m\n",
      "\u001b[1;32m~\\Anaconda3\\lib\\site-packages\\pandas\\core\\reshape\\merge.py\u001b[0m in \u001b[0;36m__init__\u001b[1;34m(self, left, right, how, on, left_on, right_on, axis, left_index, right_index, sort, suffixes, copy, indicator)\u001b[0m\n\u001b[0;32m    551\u001b[0m             \u001b[0mwarnings\u001b[0m\u001b[1;33m.\u001b[0m\u001b[0mwarn\u001b[0m\u001b[1;33m(\u001b[0m\u001b[0mmsg\u001b[0m\u001b[1;33m,\u001b[0m \u001b[0mUserWarning\u001b[0m\u001b[1;33m)\u001b[0m\u001b[1;33m\u001b[0m\u001b[0m\n\u001b[0;32m    552\u001b[0m \u001b[1;33m\u001b[0m\u001b[0m\n\u001b[1;32m--> 553\u001b[1;33m         \u001b[0mself\u001b[0m\u001b[1;33m.\u001b[0m\u001b[0m_validate_specification\u001b[0m\u001b[1;33m(\u001b[0m\u001b[1;33m)\u001b[0m\u001b[1;33m\u001b[0m\u001b[0m\n\u001b[0m\u001b[0;32m    554\u001b[0m \u001b[1;33m\u001b[0m\u001b[0m\n\u001b[0;32m    555\u001b[0m         \u001b[1;31m# note this function has side effects\u001b[0m\u001b[1;33m\u001b[0m\u001b[1;33m\u001b[0m\u001b[0m\n",
      "\u001b[1;32m~\\Anaconda3\\lib\\site-packages\\pandas\\core\\reshape\\merge.py\u001b[0m in \u001b[0;36m_validate_specification\u001b[1;34m(self)\u001b[0m\n\u001b[0;32m    950\u001b[0m                                      'of levels in the index of \"left\"')\n\u001b[0;32m    951\u001b[0m                 \u001b[0mself\u001b[0m\u001b[1;33m.\u001b[0m\u001b[0mleft_on\u001b[0m \u001b[1;33m=\u001b[0m \u001b[1;33m[\u001b[0m\u001b[1;32mNone\u001b[0m\u001b[1;33m]\u001b[0m \u001b[1;33m*\u001b[0m \u001b[0mn\u001b[0m\u001b[1;33m\u001b[0m\u001b[0m\n\u001b[1;32m--> 952\u001b[1;33m         \u001b[1;32mif\u001b[0m \u001b[0mlen\u001b[0m\u001b[1;33m(\u001b[0m\u001b[0mself\u001b[0m\u001b[1;33m.\u001b[0m\u001b[0mright_on\u001b[0m\u001b[1;33m)\u001b[0m \u001b[1;33m!=\u001b[0m \u001b[0mlen\u001b[0m\u001b[1;33m(\u001b[0m\u001b[0mself\u001b[0m\u001b[1;33m.\u001b[0m\u001b[0mleft_on\u001b[0m\u001b[1;33m)\u001b[0m\u001b[1;33m:\u001b[0m\u001b[1;33m\u001b[0m\u001b[0m\n\u001b[0m\u001b[0;32m    953\u001b[0m             \u001b[1;32mraise\u001b[0m \u001b[0mValueError\u001b[0m\u001b[1;33m(\u001b[0m\u001b[1;34m\"len(right_on) must equal len(left_on)\"\u001b[0m\u001b[1;33m)\u001b[0m\u001b[1;33m\u001b[0m\u001b[0m\n\u001b[0;32m    954\u001b[0m \u001b[1;33m\u001b[0m\u001b[0m\n",
      "\u001b[1;31mTypeError\u001b[0m: object of type 'NoneType' has no len()"
     ]
    }
   ],
   "source": [
    "count1 = pd.merge(book_df, count, left_on = 'ISBN')"
   ]
  },
  {
   "cell_type": "code",
   "execution_count": 14,
   "metadata": {},
   "outputs": [
    {
     "data": {
      "text/html": [
       "<div>\n",
       "<style>\n",
       "    .dataframe thead tr:only-child th {\n",
       "        text-align: right;\n",
       "    }\n",
       "\n",
       "    .dataframe thead th {\n",
       "        text-align: left;\n",
       "    }\n",
       "\n",
       "    .dataframe tbody tr th {\n",
       "        vertical-align: top;\n",
       "    }\n",
       "</style>\n",
       "<table border=\"1\" class=\"dataframe\">\n",
       "  <thead>\n",
       "    <tr style=\"text-align: right;\">\n",
       "      <th></th>\n",
       "      <th>Author</th>\n",
       "      <th>Date</th>\n",
       "      <th>ISBN</th>\n",
       "      <th>Name</th>\n",
       "      <th>Publisher</th>\n",
       "      <th>Status</th>\n",
       "      <th>0</th>\n",
       "    </tr>\n",
       "  </thead>\n",
       "  <tbody>\n",
       "    <tr>\n",
       "      <th>0</th>\n",
       "      <td>Louisa Lim</td>\n",
       "      <td>2014-05-07</td>\n",
       "      <td>9.789579e+12</td>\n",
       "      <td>重返天安門：在失憶的人民共和國，追尋六四的歷史真相</td>\n",
       "      <td>八旗文化</td>\n",
       "      <td>In</td>\n",
       "      <td>NaN</td>\n",
       "    </tr>\n",
       "    <tr>\n",
       "      <th>1</th>\n",
       "      <td>溫如生</td>\n",
       "      <td>2018-10-05</td>\n",
       "      <td>9.789579e+12</td>\n",
       "      <td>願你在深淵盛放</td>\n",
       "      <td>悅知文化</td>\n",
       "      <td>In</td>\n",
       "      <td>NaN</td>\n",
       "    </tr>\n",
       "    <tr>\n",
       "      <th>2</th>\n",
       "      <td>Becky</td>\n",
       "      <td>2018-10-10</td>\n",
       "      <td>9.789571e+12</td>\n",
       "      <td>曬冰島 UNLOCK ICELAND：住在冰島才知道的70個迷人小事、小店、小旅行</td>\n",
       "      <td>時報出版</td>\n",
       "      <td>In</td>\n",
       "      <td>NaN</td>\n",
       "    </tr>\n",
       "    <tr>\n",
       "      <th>3</th>\n",
       "      <td>蔡蜜綺</td>\n",
       "      <td>2018-11-01</td>\n",
       "      <td>9.789863e+12</td>\n",
       "      <td>宜蘭PLUS</td>\n",
       "      <td>墨刻</td>\n",
       "      <td>In</td>\n",
       "      <td>NaN</td>\n",
       "    </tr>\n",
       "    <tr>\n",
       "      <th>4</th>\n",
       "      <td>郭瓊俐</td>\n",
       "      <td>2019-01-05</td>\n",
       "      <td>9.789865e+12</td>\n",
       "      <td>用行動帶來希望：賴清德的決策風格</td>\n",
       "      <td>天下文化</td>\n",
       "      <td>In</td>\n",
       "      <td>NaN</td>\n",
       "    </tr>\n",
       "    <tr>\n",
       "      <th>5</th>\n",
       "      <td>馬提．凱根</td>\n",
       "      <td>2019-05-11</td>\n",
       "      <td>9.789868e+12</td>\n",
       "      <td>矽谷最夯‧產品專案管理全書：專案管理大師教你用可實踐的流程打造人人都喜歡的產品</td>\n",
       "      <td>商業周刊</td>\n",
       "      <td>In</td>\n",
       "      <td>NaN</td>\n",
       "    </tr>\n",
       "    <tr>\n",
       "      <th>6</th>\n",
       "      <td>蘇西．霍普金斯</td>\n",
       "      <td>2019-05-11</td>\n",
       "      <td>9.789577e+12</td>\n",
       "      <td>我離開之後：一個母親給女兒的人生指南， 以及那些來不及說的愛與牽掛</td>\n",
       "      <td>三采</td>\n",
       "      <td>In</td>\n",
       "      <td>NaN</td>\n",
       "    </tr>\n",
       "    <tr>\n",
       "      <th>7</th>\n",
       "      <td>綠角</td>\n",
       "      <td>2019-05-12</td>\n",
       "      <td>9.789869e+12</td>\n",
       "      <td>綠角的基金8堂課(2016補課增修版)</td>\n",
       "      <td>經濟日報</td>\n",
       "      <td>In</td>\n",
       "      <td>NaN</td>\n",
       "    </tr>\n",
       "    <tr>\n",
       "      <th>9789571377551</th>\n",
       "      <td>NaN</td>\n",
       "      <td>NaT</td>\n",
       "      <td>NaN</td>\n",
       "      <td>NaN</td>\n",
       "      <td>NaN</td>\n",
       "      <td>NaN</td>\n",
       "      <td>3.0</td>\n",
       "    </tr>\n",
       "    <tr>\n",
       "      <th>9789576581502</th>\n",
       "      <td>NaN</td>\n",
       "      <td>NaT</td>\n",
       "      <td>NaN</td>\n",
       "      <td>NaN</td>\n",
       "      <td>NaN</td>\n",
       "      <td>NaN</td>\n",
       "      <td>1.0</td>\n",
       "    </tr>\n",
       "    <tr>\n",
       "      <th>9789578654648</th>\n",
       "      <td>NaN</td>\n",
       "      <td>NaT</td>\n",
       "      <td>NaN</td>\n",
       "      <td>NaN</td>\n",
       "      <td>NaN</td>\n",
       "      <td>NaN</td>\n",
       "      <td>3.0</td>\n",
       "    </tr>\n",
       "    <tr>\n",
       "      <th>9789578787964</th>\n",
       "      <td>NaN</td>\n",
       "      <td>NaT</td>\n",
       "      <td>NaN</td>\n",
       "      <td>NaN</td>\n",
       "      <td>NaN</td>\n",
       "      <td>NaN</td>\n",
       "      <td>3.0</td>\n",
       "    </tr>\n",
       "    <tr>\n",
       "      <th>9789862894606</th>\n",
       "      <td>NaN</td>\n",
       "      <td>NaT</td>\n",
       "      <td>NaN</td>\n",
       "      <td>NaN</td>\n",
       "      <td>NaN</td>\n",
       "      <td>NaN</td>\n",
       "      <td>3.0</td>\n",
       "    </tr>\n",
       "    <tr>\n",
       "      <th>9789864796465</th>\n",
       "      <td>NaN</td>\n",
       "      <td>NaT</td>\n",
       "      <td>NaN</td>\n",
       "      <td>NaN</td>\n",
       "      <td>NaN</td>\n",
       "      <td>NaN</td>\n",
       "      <td>1.0</td>\n",
       "    </tr>\n",
       "    <tr>\n",
       "      <th>9789867778628</th>\n",
       "      <td>NaN</td>\n",
       "      <td>NaT</td>\n",
       "      <td>NaN</td>\n",
       "      <td>NaN</td>\n",
       "      <td>NaN</td>\n",
       "      <td>NaN</td>\n",
       "      <td>3.0</td>\n",
       "    </tr>\n",
       "    <tr>\n",
       "      <th>9789869265430</th>\n",
       "      <td>NaN</td>\n",
       "      <td>NaT</td>\n",
       "      <td>NaN</td>\n",
       "      <td>NaN</td>\n",
       "      <td>NaN</td>\n",
       "      <td>NaN</td>\n",
       "      <td>2.0</td>\n",
       "    </tr>\n",
       "  </tbody>\n",
       "</table>\n",
       "</div>"
      ],
      "text/plain": [
       "                   Author       Date          ISBN  \\\n",
       "0              Louisa Lim 2014-05-07  9.789579e+12   \n",
       "1                     溫如生 2018-10-05  9.789579e+12   \n",
       "2                   Becky 2018-10-10  9.789571e+12   \n",
       "3                     蔡蜜綺 2018-11-01  9.789863e+12   \n",
       "4                     郭瓊俐 2019-01-05  9.789865e+12   \n",
       "5                   馬提．凱根 2019-05-11  9.789868e+12   \n",
       "6                 蘇西．霍普金斯 2019-05-11  9.789577e+12   \n",
       "7                      綠角 2019-05-12  9.789869e+12   \n",
       "9789571377551         NaN        NaT           NaN   \n",
       "9789576581502         NaN        NaT           NaN   \n",
       "9789578654648         NaN        NaT           NaN   \n",
       "9789578787964         NaN        NaT           NaN   \n",
       "9789862894606         NaN        NaT           NaN   \n",
       "9789864796465         NaN        NaT           NaN   \n",
       "9789867778628         NaN        NaT           NaN   \n",
       "9789869265430         NaN        NaT           NaN   \n",
       "\n",
       "                                                    Name Publisher Status    0  \n",
       "0                              重返天安門：在失憶的人民共和國，追尋六四的歷史真相      八旗文化     In  NaN  \n",
       "1                                                願你在深淵盛放      悅知文化     In  NaN  \n",
       "2              曬冰島 UNLOCK ICELAND：住在冰島才知道的70個迷人小事、小店、小旅行      時報出版     In  NaN  \n",
       "3                                                 宜蘭PLUS        墨刻     In  NaN  \n",
       "4                                       用行動帶來希望：賴清德的決策風格      天下文化     In  NaN  \n",
       "5                矽谷最夯‧產品專案管理全書：專案管理大師教你用可實踐的流程打造人人都喜歡的產品      商業周刊     In  NaN  \n",
       "6                      我離開之後：一個母親給女兒的人生指南， 以及那些來不及說的愛與牽掛        三采     In  NaN  \n",
       "7                                    綠角的基金8堂課(2016補課增修版)      經濟日報     In  NaN  \n",
       "9789571377551                                        NaN       NaN    NaN  3.0  \n",
       "9789576581502                                        NaN       NaN    NaN  1.0  \n",
       "9789578654648                                        NaN       NaN    NaN  3.0  \n",
       "9789578787964                                        NaN       NaN    NaN  3.0  \n",
       "9789862894606                                        NaN       NaN    NaN  3.0  \n",
       "9789864796465                                        NaN       NaN    NaN  1.0  \n",
       "9789867778628                                        NaN       NaN    NaN  3.0  \n",
       "9789869265430                                        NaN       NaN    NaN  2.0  "
      ]
     },
     "execution_count": 14,
     "metadata": {},
     "output_type": "execute_result"
    }
   ],
   "source": [
    "count1"
   ]
  },
  {
   "cell_type": "code",
   "execution_count": 37,
   "metadata": {},
   "outputs": [],
   "source": [
    "book_query = json.loads(requests.get(book_url).text)\n",
    "history_query = json.loads(requests.get(history_url).text)"
   ]
  },
  {
   "cell_type": "code",
   "execution_count": 17,
   "metadata": {},
   "outputs": [
    {
     "name": "stdout",
     "output_type": "stream",
     "text": [
      "[{'ISBN': '9789578654648', 'Name': '重返天安門：在失憶的人民共和國，追尋六四的歷史真相', 'Date': '2014/05/07', 'Author': 'Louisa Lim', 'Publisher': '八旗文化', 'Status': 'In'}, {'ISBN': '9789578787964', 'Name': '願你在深淵盛放', 'Date': '2018/10/05', 'Author': '溫如生', 'Publisher': '悅知文化', 'Status': 'In'}, {'ISBN': '9789571377551', 'Name': '曬冰島 UNLOCK ICELAND：住在冰島才知道的70個迷人小事、小店、小旅行', 'Date': '2018/10/10', 'Author': 'Becky', 'Publisher': '時報出版', 'Status': 'In'}, {'ISBN': '9789862894606', 'Name': '宜蘭PLUS', 'Date': '2018/11/01', 'Author': '蔡蜜綺', 'Publisher': '墨刻', 'Status': 'In'}, {'ISBN': '9789864796465', 'Name': '用行動帶來希望：賴清德的決策風格', 'Date': '2019/01/05', 'Author': '郭瓊俐', 'Publisher': '天下文化', 'Status': 'In'}, {'ISBN': '9789867778628', 'Name': '矽谷最夯‧產品專案管理全書：專案管理大師教你用可實踐的流程打造人人都喜歡的產品', 'Date': '2019/05/11', 'Author': '馬提．凱根', 'Publisher': '商業周刊', 'Status': 'In'}, {'ISBN': '9789576581502', 'Name': '我離開之後：一個母親給女兒的人生指南， 以及那些來不及說的愛與牽掛', 'Date': '2019/05/11', 'Author': '蘇西．霍普金斯', 'Publisher': '三采', 'Status': 'In'}, {'ISBN': '9789869265430', 'Name': '綠角的基金8堂課(2016補課增修版)', 'Date': '2019/05/12', 'Author': '綠角', 'Publisher': '經濟日報', 'Status': 'In'}]\n"
     ]
    }
   ],
   "source": [
    "print(book_query)"
   ]
  },
  {
   "cell_type": "code",
   "execution_count": 79,
   "metadata": {
    "collapsed": true
   },
   "outputs": [],
   "source": [
    "results = {}\n",
    "history = {}\n",
    "books = []"
   ]
  },
  {
   "cell_type": "code",
   "execution_count": 80,
   "metadata": {},
   "outputs": [],
   "source": [
    "for his in history_query:\n",
    "    isbn = his['ISBN']\n",
    "    if isbn in history.keys():\n",
    "        history[isbn] += 1\n",
    "    else:\n",
    "        history[isbn] = 1"
   ]
  },
  {
   "cell_type": "code",
   "execution_count": 72,
   "metadata": {},
   "outputs": [],
   "source": [
    "history = sorted(history.items(), key=lambda kv: kv[1], reverse=True)"
   ]
  },
  {
   "cell_type": "code",
   "execution_count": 73,
   "metadata": {},
   "outputs": [
    {
     "data": {
      "text/plain": [
       "8"
      ]
     },
     "execution_count": 73,
     "metadata": {},
     "output_type": "execute_result"
    }
   ],
   "source": [
    "len(book_query)"
   ]
  },
  {
   "cell_type": "code",
   "execution_count": 81,
   "metadata": {},
   "outputs": [],
   "source": [
    "    for book in book_query:\n",
    "        isbn = book['ISBN']\n",
    "        if isbn in history.keys():\n",
    "            books.append({\n",
    "                'ISBN': isbn,\n",
    "                'Name': book['Name'],\n",
    "                'count': history[isbn]\n",
    "            })\n",
    "        else:\n",
    "            books.append({\n",
    "                'ISBN': isbn,\n",
    "                'Name': book['Name'],\n",
    "                'count': 0\n",
    "            })"
   ]
  },
  {
   "cell_type": "code",
   "execution_count": 82,
   "metadata": {},
   "outputs": [
    {
     "data": {
      "text/plain": [
       "8"
      ]
     },
     "execution_count": 82,
     "metadata": {},
     "output_type": "execute_result"
    }
   ],
   "source": [
    "len(books)"
   ]
  },
  {
   "cell_type": "code",
   "execution_count": 83,
   "metadata": {},
   "outputs": [
    {
     "data": {
      "text/plain": [
       "[{'ISBN': '9789578654648', 'Name': '重返天安門：在失憶的人民共和國，追尋六四的歷史真相', 'count': 3},\n",
       " {'ISBN': '9789578787964', 'Name': '願你在深淵盛放', 'count': 3},\n",
       " {'ISBN': '9789571377551',\n",
       "  'Name': '曬冰島 UNLOCK ICELAND：住在冰島才知道的70個迷人小事、小店、小旅行',\n",
       "  'count': 3},\n",
       " {'ISBN': '9789862894606', 'Name': '宜蘭PLUS', 'count': 3},\n",
       " {'ISBN': '9789864796465', 'Name': '用行動帶來希望：賴清德的決策風格', 'count': 1},\n",
       " {'ISBN': '9789867778628',\n",
       "  'Name': '矽谷最夯‧產品專案管理全書：專案管理大師教你用可實踐的流程打造人人都喜歡的產品',\n",
       "  'count': 3},\n",
       " {'ISBN': '9789576581502',\n",
       "  'Name': '我離開之後：一個母親給女兒的人生指南， 以及那些來不及說的愛與牽掛',\n",
       "  'count': 1},\n",
       " {'ISBN': '9789869265430', 'Name': '綠角的基金8堂課(2016補課增修版)', 'count': 2}]"
      ]
     },
     "execution_count": 83,
     "metadata": {},
     "output_type": "execute_result"
    }
   ],
   "source": [
    "books"
   ]
  },
  {
   "cell_type": "code",
   "execution_count": 75,
   "metadata": {},
   "outputs": [
    {
     "data": {
      "text/plain": [
       "[('9789578654648', 3),\n",
       " ('9789578787964', 3),\n",
       " ('9789571377551', 3),\n",
       " ('9789862894606', 3),\n",
       " ('9789867778628', 3),\n",
       " ('9789869265430', 2),\n",
       " ('9789864796465', 1),\n",
       " ('9789576581502', 1)]"
      ]
     },
     "execution_count": 75,
     "metadata": {},
     "output_type": "execute_result"
    }
   ],
   "source": [
    "history"
   ]
  },
  {
   "cell_type": "code",
   "execution_count": 62,
   "metadata": {},
   "outputs": [
    {
     "ename": "AttributeError",
     "evalue": "'list' object has no attribute 'get'",
     "output_type": "error",
     "traceback": [
      "\u001b[1;31m---------------------------------------------------------------------------\u001b[0m",
      "\u001b[1;31mAttributeError\u001b[0m                            Traceback (most recent call last)",
      "\u001b[1;32m<ipython-input-62-5c16bb131532>\u001b[0m in \u001b[0;36m<module>\u001b[1;34m()\u001b[0m\n\u001b[1;32m----> 1\u001b[1;33m \u001b[1;32mfor\u001b[0m \u001b[0mw\u001b[0m \u001b[1;32min\u001b[0m \u001b[0msorted\u001b[0m\u001b[1;33m(\u001b[0m\u001b[0mhistory\u001b[0m\u001b[1;33m,\u001b[0m \u001b[0mkey\u001b[0m\u001b[1;33m=\u001b[0m\u001b[0mhistory\u001b[0m\u001b[1;33m.\u001b[0m\u001b[0mget\u001b[0m\u001b[1;33m,\u001b[0m \u001b[0mreverse\u001b[0m\u001b[1;33m=\u001b[0m\u001b[1;32mTrue\u001b[0m\u001b[1;33m)\u001b[0m\u001b[1;33m:\u001b[0m\u001b[1;33m\u001b[0m\u001b[0m\n\u001b[0m\u001b[0;32m      2\u001b[0m   \u001b[0mprint\u001b[0m\u001b[1;33m(\u001b[0m\u001b[0mw\u001b[0m\u001b[1;33m,\u001b[0m \u001b[0md\u001b[0m\u001b[1;33m[\u001b[0m\u001b[0mw\u001b[0m\u001b[1;33m]\u001b[0m\u001b[1;33m)\u001b[0m\u001b[1;33m\u001b[0m\u001b[0m\n",
      "\u001b[1;31mAttributeError\u001b[0m: 'list' object has no attribute 'get'"
     ]
    }
   ],
   "source": []
  },
  {
   "cell_type": "code",
   "execution_count": null,
   "metadata": {
    "collapsed": true
   },
   "outputs": [],
   "source": []
  }
 ],
 "metadata": {
  "kernelspec": {
   "display_name": "Python 3",
   "language": "python",
   "name": "python3"
  },
  "language_info": {
   "codemirror_mode": {
    "name": "ipython",
    "version": 3
   },
   "file_extension": ".py",
   "mimetype": "text/x-python",
   "name": "python",
   "nbconvert_exporter": "python",
   "pygments_lexer": "ipython3",
   "version": "3.6.3"
  }
 },
 "nbformat": 4,
 "nbformat_minor": 2
}
